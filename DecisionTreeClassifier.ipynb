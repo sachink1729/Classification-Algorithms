{
 "cells": [
  {
   "cell_type": "code",
   "execution_count": 17,
   "metadata": {},
   "outputs": [],
   "source": [
    "import numpy as np\n",
    "import pandas as pd"
   ]
  },
  {
   "cell_type": "code",
   "execution_count": 18,
   "metadata": {},
   "outputs": [],
   "source": [
    "df=pd.read_csv(\"binary.csv\")"
   ]
  },
  {
   "cell_type": "code",
   "execution_count": 19,
   "metadata": {},
   "outputs": [
    {
     "data": {
      "text/plain": [
       "Index(['admit', 'gre', 'gpa', 'rank'], dtype='object')"
      ]
     },
     "execution_count": 19,
     "metadata": {},
     "output_type": "execute_result"
    }
   ],
   "source": [
    "df.columns"
   ]
  },
  {
   "cell_type": "code",
   "execution_count": 35,
   "metadata": {},
   "outputs": [],
   "source": [
    "from sklearn.model_selection import train_test_split\n",
    "training_features=['gre','gpa','rank']\n",
    "target=['admit']\n",
    "\n",
    "X_train, X_test, Y_train, Y_test= train_test_split(df[training_features], df[target],\n",
    "                                                   test_size=0.07, random_state=20)\n"
   ]
  },
  {
   "cell_type": "code",
   "execution_count": 36,
   "metadata": {},
   "outputs": [],
   "source": [
    "from sklearn.tree import DecisionTreeClassifier\n",
    "entropy=DecisionTreeClassifier(max_leaf_nodes=9,min_samples_split=9,max_depth=1,criterion='entropy')"
   ]
  },
  {
   "cell_type": "code",
   "execution_count": 37,
   "metadata": {},
   "outputs": [
    {
     "data": {
      "text/plain": [
       "DecisionTreeClassifier(criterion='entropy', max_depth=1, max_leaf_nodes=9,\n",
       "                       min_samples_split=9)"
      ]
     },
     "execution_count": 37,
     "metadata": {},
     "output_type": "execute_result"
    }
   ],
   "source": [
    "#model fitting\n",
    "entropy.fit(X_train,Y_train)"
   ]
  },
  {
   "cell_type": "code",
   "execution_count": 38,
   "metadata": {},
   "outputs": [],
   "source": [
    "#prediction\n",
    "predicted= entropy.predict(X_test)"
   ]
  },
  {
   "cell_type": "code",
   "execution_count": 44,
   "metadata": {},
   "outputs": [
    {
     "name": "stdout",
     "output_type": "stream",
     "text": [
      "confusion matrix:\n",
      " [[27  0]\n",
      " [ 2  0]]\n",
      "Recall = Sensitivity =  0.9310344827586207\n",
      "Specificity = nan\n",
      "Accuracy= 0.9310344827586207\n",
      "Precision= 1.0\n",
      "f1 score= 0.9642857142857143\n"
     ]
    },
    {
     "name": "stderr",
     "output_type": "stream",
     "text": [
      "<ipython-input-44-e539e7f96eb5>:11: RuntimeWarning: invalid value encountered in longlong_scalars\n",
      "  print(\"Specificity =\", tn/(tn+fp))\n"
     ]
    }
   ],
   "source": [
    "# metrics\n",
    "\n",
    "from sklearn.metrics import confusion_matrix\n",
    "\n",
    "cm=confusion_matrix(Y_test,predicted)\n",
    "print(\"confusion matrix:\\n\",cm)\n",
    "tp,fp,fn,tn=cm.ravel()\n",
    "recall = tp/(tp+fn)\n",
    "precision=tp/(tp+fp)\n",
    "print(\"Recall = Sensitivity = \",tp/(tp+fn))\n",
    "print(\"Specificity =\", tn/(tn+fp))\n",
    "print(\"Accuracy=\",(tp+tn)/(tp+tn+fp+fn))\n",
    "print(\"Precision=\",tp/(tp+fp))\n",
    "f1score= 2 *(recall*precision)/(precision+recall)\n",
    "print(\"f1 score=\", f1score)"
   ]
  },
  {
   "cell_type": "code",
   "execution_count": null,
   "metadata": {},
   "outputs": [],
   "source": []
  }
 ],
 "metadata": {
  "kernelspec": {
   "display_name": "Python 3",
   "language": "python",
   "name": "python3"
  },
  "language_info": {
   "codemirror_mode": {
    "name": "ipython",
    "version": 3
   },
   "file_extension": ".py",
   "mimetype": "text/x-python",
   "name": "python",
   "nbconvert_exporter": "python",
   "pygments_lexer": "ipython3",
   "version": "3.8.3"
  }
 },
 "nbformat": 4,
 "nbformat_minor": 4
}
